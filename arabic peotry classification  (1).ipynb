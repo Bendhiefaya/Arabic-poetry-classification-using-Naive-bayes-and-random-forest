{
 "cells": [
  {
   "cell_type": "code",
   "execution_count": 1,
   "id": "d1910d46",
   "metadata": {},
   "outputs": [],
   "source": [
    "import pandas as pd\n",
    "import numpy as np\n",
    "import pandas as pd\n",
    "import matplotlib.pyplot as plt\n",
    "from sklearn.model_selection import train_test_split\n",
    "from sklearn.feature_extraction.text import TfidfVectorizer\n",
    "from sklearn.naive_bayes import MultinomialNB\n",
    "from sklearn.metrics import accuracy_score, classification_report"
   ]
  },
  {
   "cell_type": "code",
   "execution_count": null,
   "id": "157433b8",
   "metadata": {},
   "outputs": [],
   "source": [
    "#!pip install arabic"
   ]
  },
  {
   "cell_type": "code",
   "execution_count": 2,
   "id": "402ad2c2",
   "metadata": {},
   "outputs": [],
   "source": [
    "data= pd.read_csv(r'C:\\Users\\bendh\\OneDrive\\Desktop\\Arabic_poetry_dataset.csv', sep = ',')"
   ]
  },
  {
   "cell_type": "code",
   "execution_count": 3,
   "id": "50d97c9f",
   "metadata": {},
   "outputs": [
    {
     "data": {
      "text/html": [
       "<div>\n",
       "<style scoped>\n",
       "    .dataframe tbody tr th:only-of-type {\n",
       "        vertical-align: middle;\n",
       "    }\n",
       "\n",
       "    .dataframe tbody tr th {\n",
       "        vertical-align: top;\n",
       "    }\n",
       "\n",
       "    .dataframe thead th {\n",
       "        text-align: right;\n",
       "    }\n",
       "</style>\n",
       "<table border=\"1\" class=\"dataframe\">\n",
       "  <thead>\n",
       "    <tr style=\"text-align: right;\">\n",
       "      <th></th>\n",
       "      <th>id</th>\n",
       "      <th>category</th>\n",
       "      <th>poet_name</th>\n",
       "      <th>poem_title</th>\n",
       "      <th>poem_text</th>\n",
       "    </tr>\n",
       "  </thead>\n",
       "  <tbody>\n",
       "    <tr>\n",
       "      <th>0</th>\n",
       "      <td>0</td>\n",
       "      <td>الإمارات</td>\n",
       "      <td>خلفان بن مصبح</td>\n",
       "      <td>بدت تختال في حُلل الجمالِ</td>\n",
       "      <td>بدت تختال في حُلل الجمالِ\\nوجادت بالزيارة والو...</td>\n",
       "    </tr>\n",
       "    <tr>\n",
       "      <th>1</th>\n",
       "      <td>1</td>\n",
       "      <td>الإمارات</td>\n",
       "      <td>خلفان بن مصبح</td>\n",
       "      <td>يا طائر الشعر القرير</td>\n",
       "      <td>يا طائر الشعر القرير\\nيا وحي إلهام الصدور\\nأسع...</td>\n",
       "    </tr>\n",
       "    <tr>\n",
       "      <th>2</th>\n",
       "      <td>2</td>\n",
       "      <td>الإمارات</td>\n",
       "      <td>خلفان بن مصبح</td>\n",
       "      <td>بنت حجرات أرى من عجب</td>\n",
       "      <td>بنت حجرات أرى من عجب\\nأن أرى فيك جمال العرب\\nد...</td>\n",
       "    </tr>\n",
       "    <tr>\n",
       "      <th>3</th>\n",
       "      <td>3</td>\n",
       "      <td>الإمارات</td>\n",
       "      <td>خلفان بن مصبح</td>\n",
       "      <td>هذا الربيع بنور الحسن وافانا</td>\n",
       "      <td>هذا الربيع بنور الحسن وافانا\\nوقد كسا الأرض با...</td>\n",
       "    </tr>\n",
       "    <tr>\n",
       "      <th>4</th>\n",
       "      <td>4</td>\n",
       "      <td>الإمارات</td>\n",
       "      <td>خلفان بن مصبح</td>\n",
       "      <td>روحي فداك وإن مُنحتُ صدوداً</td>\n",
       "      <td>روحي فداك وإن مُنحتُ صدوداً\\nأخفاك ما بي أم أط...</td>\n",
       "    </tr>\n",
       "    <tr>\n",
       "      <th>...</th>\n",
       "      <td>...</td>\n",
       "      <td>...</td>\n",
       "      <td>...</td>\n",
       "      <td>...</td>\n",
       "      <td>...</td>\n",
       "    </tr>\n",
       "    <tr>\n",
       "      <th>54939</th>\n",
       "      <td>55113</td>\n",
       "      <td>العصر المملوكي</td>\n",
       "      <td>ابن زمرك</td>\n",
       "      <td>اسقني بنت الدوالي</td>\n",
       "      <td>اسقني بنت الدوالي\\nإنها نعم الدوالي\\nسقّني سر ...</td>\n",
       "    </tr>\n",
       "    <tr>\n",
       "      <th>54940</th>\n",
       "      <td>55114</td>\n",
       "      <td>العصر المملوكي</td>\n",
       "      <td>ابن زمرك</td>\n",
       "      <td>الإلاه يحمد ويشكر</td>\n",
       "      <td>الإلاه يحمد ويشكر\\nالمطر من اهن لشكر\\nوالإلاه ...</td>\n",
       "    </tr>\n",
       "    <tr>\n",
       "      <th>54941</th>\n",
       "      <td>55115</td>\n",
       "      <td>العصر المملوكي</td>\n",
       "      <td>ابن زمرك</td>\n",
       "      <td>ألني أبلغ من العمل</td>\n",
       "      <td>ألنيّ أبلغ من العمل\\nاللّه يبلّغك الأمل\\nنزيه ...</td>\n",
       "    </tr>\n",
       "    <tr>\n",
       "      <th>54942</th>\n",
       "      <td>55116</td>\n",
       "      <td>العصر المملوكي</td>\n",
       "      <td>ابن زمرك</td>\n",
       "      <td>مهرجان هوذا اليوم للإنسان</td>\n",
       "      <td>مهرجان هوذا اليوم للإنسان\\nألنزّيه والحسن والإ...</td>\n",
       "    </tr>\n",
       "    <tr>\n",
       "      <th>54943</th>\n",
       "      <td>55117</td>\n",
       "      <td>العصر المملوكي</td>\n",
       "      <td>ابن زمرك</td>\n",
       "      <td>الأمير بدر المواكب</td>\n",
       "      <td>الأمير بدر المواكب\\nزدل ناجم فالكواكب\\nالسعود ...</td>\n",
       "    </tr>\n",
       "  </tbody>\n",
       "</table>\n",
       "<p>54944 rows × 5 columns</p>\n",
       "</div>"
      ],
      "text/plain": [
       "          id        category      poet_name                    poem_title  \\\n",
       "0          0        الإمارات  خلفان بن مصبح     بدت تختال في حُلل الجمالِ   \n",
       "1          1        الإمارات  خلفان بن مصبح          يا طائر الشعر القرير   \n",
       "2          2        الإمارات  خلفان بن مصبح          بنت حجرات أرى من عجب   \n",
       "3          3        الإمارات  خلفان بن مصبح  هذا الربيع بنور الحسن وافانا   \n",
       "4          4        الإمارات  خلفان بن مصبح   روحي فداك وإن مُنحتُ صدوداً   \n",
       "...      ...             ...            ...                           ...   \n",
       "54939  55113  العصر المملوكي       ابن زمرك             اسقني بنت الدوالي   \n",
       "54940  55114  العصر المملوكي       ابن زمرك             الإلاه يحمد ويشكر   \n",
       "54941  55115  العصر المملوكي       ابن زمرك            ألني أبلغ من العمل   \n",
       "54942  55116  العصر المملوكي       ابن زمرك     مهرجان هوذا اليوم للإنسان   \n",
       "54943  55117  العصر المملوكي       ابن زمرك            الأمير بدر المواكب   \n",
       "\n",
       "                                               poem_text  \n",
       "0      بدت تختال في حُلل الجمالِ\\nوجادت بالزيارة والو...  \n",
       "1      يا طائر الشعر القرير\\nيا وحي إلهام الصدور\\nأسع...  \n",
       "2      بنت حجرات أرى من عجب\\nأن أرى فيك جمال العرب\\nد...  \n",
       "3      هذا الربيع بنور الحسن وافانا\\nوقد كسا الأرض با...  \n",
       "4      روحي فداك وإن مُنحتُ صدوداً\\nأخفاك ما بي أم أط...  \n",
       "...                                                  ...  \n",
       "54939  اسقني بنت الدوالي\\nإنها نعم الدوالي\\nسقّني سر ...  \n",
       "54940  الإلاه يحمد ويشكر\\nالمطر من اهن لشكر\\nوالإلاه ...  \n",
       "54941  ألنيّ أبلغ من العمل\\nاللّه يبلّغك الأمل\\nنزيه ...  \n",
       "54942  مهرجان هوذا اليوم للإنسان\\nألنزّيه والحسن والإ...  \n",
       "54943  الأمير بدر المواكب\\nزدل ناجم فالكواكب\\nالسعود ...  \n",
       "\n",
       "[54944 rows x 5 columns]"
      ]
     },
     "execution_count": 3,
     "metadata": {},
     "output_type": "execute_result"
    }
   ],
   "source": [
    "data"
   ]
  },
  {
   "cell_type": "code",
   "execution_count": 4,
   "id": "44e12cd6",
   "metadata": {},
   "outputs": [
    {
     "data": {
      "text/plain": [
       "['العصر العباسي',\n",
       " 'العصر المملوكي',\n",
       " 'العصر الايوبي',\n",
       " 'العصر العثماني',\n",
       " 'العصر الاموي',\n",
       " 'العصر الأندلسي',\n",
       " 'مصر',\n",
       " 'لبنان',\n",
       " 'عصر المخضرمون',\n",
       " 'سوريا',\n",
       " 'العصر الجاهلي',\n",
       " 'فلسطين',\n",
       " 'العراق',\n",
       " 'اليمن',\n",
       " 'المغرب',\n",
       " 'البحرين',\n",
       " 'تونس',\n",
       " 'الإمارات',\n",
       " 'موريتانيا',\n",
       " 'العصر الإسلامي',\n",
       " 'الأردن',\n",
       " 'السعودية',\n",
       " 'ليبيا',\n",
       " 'الجزائر',\n",
       " 'عمان',\n",
       " 'السودان',\n",
       " 'الكويت',\n",
       " 'قطر']"
      ]
     },
     "execution_count": 4,
     "metadata": {},
     "output_type": "execute_result"
    }
   ],
   "source": [
    "categories = data['category'].value_counts().index.tolist()\n",
    "categories"
   ]
  },
  {
   "cell_type": "code",
   "execution_count": 5,
   "id": "ca2d53d7",
   "metadata": {},
   "outputs": [],
   "source": [
    "# Define the mapping of categories you want to replace\n",
    "category_mapping = {\n",
    "    'مصر': 'العصر الحديث',\n",
    "    'لبنان': 'العصر الحديث',\n",
    "    'سوريا': 'العصر الحديث',\n",
    "    'فلسطين': 'العصر الحديث',\n",
    "    'العراق': 'العصر الحديث',\n",
    "    'اليمن': 'العصر الحديث',\n",
    "    'المغرب': 'العصر الحديث',\n",
    "    'البحرين': 'العصر الحديث',\n",
    "    'تونس':'العصر الحديث',\n",
    "    'الإمارات':'العصر الحديث',\n",
    "    'موريتانيا':'العصر الحديث',\n",
    "    'الأردن':'العصر الحديث',\n",
    "    'السعودية':'العصر الحديث',\n",
    "    'ليبيا':'العصر الحديث',\n",
    "    'الجزائر':'العصر الحديث',\n",
    "    'عمان':'العصر الحديث',\n",
    "    'السودان':'العصر الحديث',\n",
    "    'الكويت':'العصر الحديث',\n",
    "    'قطر':'العصر الحديث',\n",
    "}"
   ]
  },
  {
   "cell_type": "code",
   "execution_count": null,
   "id": "134b7c48",
   "metadata": {},
   "outputs": [],
   "source": []
  },
  {
   "cell_type": "code",
   "execution_count": 6,
   "id": "65da117e",
   "metadata": {},
   "outputs": [],
   "source": [
    "# Replace categories using the mapping\n",
    "data['category'] = data['category'].replace(category_mapping)"
   ]
  },
  {
   "cell_type": "code",
   "execution_count": 7,
   "id": "debb8534",
   "metadata": {},
   "outputs": [
    {
     "data": {
      "text/plain": [
       "['العصر الحديث',\n",
       " 'العصر العباسي',\n",
       " 'العصر المملوكي',\n",
       " 'العصر الايوبي',\n",
       " 'العصر العثماني',\n",
       " 'العصر الاموي',\n",
       " 'العصر الأندلسي',\n",
       " 'عصر المخضرمون',\n",
       " 'العصر الجاهلي',\n",
       " 'العصر الإسلامي']"
      ]
     },
     "execution_count": 7,
     "metadata": {},
     "output_type": "execute_result"
    }
   ],
   "source": [
    "categories1 = data['category'].value_counts().index.tolist()\n",
    "categories1"
   ]
  },
  {
   "cell_type": "code",
   "execution_count": 8,
   "id": "6e462d10",
   "metadata": {},
   "outputs": [
    {
     "data": {
      "text/plain": [
       "id            0\n",
       "category      0\n",
       "poet_name     0\n",
       "poem_title    0\n",
       "poem_text     0\n",
       "dtype: int64"
      ]
     },
     "execution_count": 8,
     "metadata": {},
     "output_type": "execute_result"
    }
   ],
   "source": [
    "data.isna().sum()"
   ]
  },
  {
   "cell_type": "code",
   "execution_count": 9,
   "id": "33ea465d",
   "metadata": {},
   "outputs": [
    {
     "data": {
      "text/plain": [
       "id            0\n",
       "category      0\n",
       "poet_name     0\n",
       "poem_title    0\n",
       "poem_text     0\n",
       "dtype: int64"
      ]
     },
     "execution_count": 9,
     "metadata": {},
     "output_type": "execute_result"
    }
   ],
   "source": [
    "data.isnull().sum()"
   ]
  },
  {
   "cell_type": "code",
   "execution_count": 65,
   "id": "955f3116",
   "metadata": {},
   "outputs": [
    {
     "name": "stdout",
     "output_type": "stream",
     "text": [
      "The dataset contains 0 duplicate rows.\n",
      "\n"
     ]
    },
    {
     "data": {
      "text/html": [
       "<div>\n",
       "<style scoped>\n",
       "    .dataframe tbody tr th:only-of-type {\n",
       "        vertical-align: middle;\n",
       "    }\n",
       "\n",
       "    .dataframe tbody tr th {\n",
       "        vertical-align: top;\n",
       "    }\n",
       "\n",
       "    .dataframe thead th {\n",
       "        text-align: right;\n",
       "    }\n",
       "</style>\n",
       "<table border=\"1\" class=\"dataframe\">\n",
       "  <thead>\n",
       "    <tr style=\"text-align: right;\">\n",
       "      <th></th>\n",
       "      <th>id</th>\n",
       "      <th>category</th>\n",
       "      <th>poet_name</th>\n",
       "      <th>poem_title</th>\n",
       "      <th>poem_text</th>\n",
       "      <th>category_label</th>\n",
       "    </tr>\n",
       "  </thead>\n",
       "  <tbody>\n",
       "  </tbody>\n",
       "</table>\n",
       "</div>"
      ],
      "text/plain": [
       "Empty DataFrame\n",
       "Columns: [id, category, poet_name, poem_title, poem_text, category_label]\n",
       "Index: []"
      ]
     },
     "execution_count": 65,
     "metadata": {},
     "output_type": "execute_result"
    }
   ],
   "source": [
    "# check for duplicates in the  dataset\n",
    "print('The dataset contains', len(data[data.duplicated(keep=False)]), 'duplicate rows.\\n')\n",
    "data[data.duplicated(keep=False)]"
   ]
  },
  {
   "cell_type": "code",
   "execution_count": 67,
   "id": "4c411b49",
   "metadata": {},
   "outputs": [
    {
     "data": {
      "image/png": "[encoded data removed]",
      "text/plain": [
       "<Figure size 720x432 with 1 Axes>"
      ]
     },
     "metadata": {
      "needs_background": "light"
     },
     "output_type": "display_data"
    }
   ],
   "source": [
    "import matplotlib.pyplot as plt\n",
    "# Plotting the distribution of categories\n",
    "plt.figure(figsize=(10, 6))\n",
    "data['category'].value_counts().plot(kind='bar', color='skyblue', edgecolor='black', alpha=0.7)\n",
    "plt.xlabel('Category')\n",
    "plt.ylabel('Frequency')\n",
    "plt.title('Distribution of Categories')\n",
    "plt.xticks(rotation=45)\n",
    "plt.grid(axis='y', linestyle='--', alpha=0.7)\n",
    "plt.tight_layout()\n",
    "plt.show()"
   ]
  },
  {
   "cell_type": "code",
   "execution_count": 68,
   "id": "0d87f4d7",
   "metadata": {},
   "outputs": [
    {
     "data": {
      "image/png": "[encoded data removed]",
      "text/plain": [
       "<Figure size 576x576 with 1 Axes>"
      ]
     },
     "metadata": {},
     "output_type": "display_data"
    }
   ],
   "source": [
    "# Calculate category counts\n",
    "category_counts = data['category'].value_counts()\n",
    "\n",
    "# Plotting the distribution of categories using a pie chart\n",
    "plt.figure(figsize=(8, 8))\n",
    "plt.pie(category_counts, labels=category_counts.index, autopct='%1.1f%%', startangle=140)\n",
    "plt.title('Distribution of Categories')\n",
    "plt.axis('equal')  # Equal aspect ratio ensures that pie is drawn as a circle.\n",
    "plt.tight_layout()\n",
    "plt.show()"
   ]
  },
  {
   "cell_type": "code",
   "execution_count": 10,
   "id": "ce587785",
   "metadata": {},
   "outputs": [],
   "source": [
    "import re\n",
    "# Function to remove diacritics\n",
    "def remove_diacritics(text):\n",
    "    pattern = re.compile(\"[\\u064b-\\u065f\\u0670]\")\n",
    "    cleaned_text = re.sub(pattern, '', text)\n",
    "    return cleaned_text"
   ]
  },
  {
   "cell_type": "code",
   "execution_count": 11,
   "id": "75fc5e5f",
   "metadata": {},
   "outputs": [],
   "source": [
    "data['poem_text']=data['poem_text'].apply(remove_diacritics)"
   ]
  },
  {
   "cell_type": "code",
   "execution_count": 12,
   "id": "48d717b0",
   "metadata": {},
   "outputs": [
    {
     "data": {
      "text/plain": [
       "0        بدت تختال في حلل الجمال\\nوجادت بالزيارة والوصا...\n",
       "1        يا طائر الشعر القرير\\nيا وحي إلهام الصدور\\nأسع...\n",
       "2        بنت حجرات أرى من عجب\\nأن أرى فيك جمال العرب\\nد...\n",
       "3        هذا الربيع بنور الحسن وافانا\\nوقد كسا الأرض با...\n",
       "4        روحي فداك وإن منحت صدودا\\nأخفاك ما بي أم أطعت ...\n",
       "                               ...                        \n",
       "54939    اسقني بنت الدوالي\\nإنها نعم الدوالي\\nسقني سر ا...\n",
       "54940    الإلاه يحمد ويشكر\\nالمطر من اهن لشكر\\nوالإلاه ...\n",
       "54941    ألني أبلغ من العمل\\nالله يبلغك الأمل\\nنزيه تحت...\n",
       "54942    مهرجان هوذا اليوم للإنسان\\nألنزيه والحسن والإح...\n",
       "54943    الأمير بدر المواكب\\nزدل ناجم فالكواكب\\nالسعود ...\n",
       "Name: poem_text, Length: 54944, dtype: object"
      ]
     },
     "execution_count": 12,
     "metadata": {},
     "output_type": "execute_result"
    }
   ],
   "source": [
    "data['poem_text']"
   ]
  },
  {
   "cell_type": "code",
   "execution_count": 13,
   "id": "3fe852b3",
   "metadata": {},
   "outputs": [],
   "source": [
    "import unicodedata\n",
    "\n",
    "def unicode_normalize(text):\n",
    "    # Normalize the text using NFC (Normalization Form Canonical Composition)\n",
    "    normalized_text = unicodedata.normalize('NFC', text)\n",
    "    return normalized_text\n"
   ]
  },
  {
   "cell_type": "code",
   "execution_count": 14,
   "id": "f6e91e63",
   "metadata": {},
   "outputs": [],
   "source": [
    "data['poem_text']=data['poem_text'].apply(unicode_normalize)"
   ]
  },
  {
   "cell_type": "code",
   "execution_count": 15,
   "id": "fb25b197",
   "metadata": {},
   "outputs": [
    {
     "data": {
      "text/plain": [
       "0        بدت تختال في حلل الجمال\\nوجادت بالزيارة والوصا...\n",
       "1        يا طائر الشعر القرير\\nيا وحي إلهام الصدور\\nأسع...\n",
       "2        بنت حجرات أرى من عجب\\nأن أرى فيك جمال العرب\\nد...\n",
       "3        هذا الربيع بنور الحسن وافانا\\nوقد كسا الأرض با...\n",
       "4        روحي فداك وإن منحت صدودا\\nأخفاك ما بي أم أطعت ...\n",
       "                               ...                        \n",
       "54939    اسقني بنت الدوالي\\nإنها نعم الدوالي\\nسقني سر ا...\n",
       "54940    الإلاه يحمد ويشكر\\nالمطر من اهن لشكر\\nوالإلاه ...\n",
       "54941    ألني أبلغ من العمل\\nالله يبلغك الأمل\\nنزيه تحت...\n",
       "54942    مهرجان هوذا اليوم للإنسان\\nألنزيه والحسن والإح...\n",
       "54943    الأمير بدر المواكب\\nزدل ناجم فالكواكب\\nالسعود ...\n",
       "Name: poem_text, Length: 54944, dtype: object"
      ]
     },
     "execution_count": 15,
     "metadata": {},
     "output_type": "execute_result"
    }
   ],
   "source": [
    "data['poem_text']"
   ]
  },
  {
   "cell_type": "code",
   "execution_count": 16,
   "id": "2d482e0f",
   "metadata": {},
   "outputs": [],
   "source": [
    "def remove_non_arabic_characters(text):\n",
    "    return re.sub(r'[^؀-ۿ]', ' ', text)"
   ]
  },
  {
   "cell_type": "code",
   "execution_count": 17,
   "id": "e07eb981",
   "metadata": {},
   "outputs": [],
   "source": [
    "data['poem_text']=data['poem_text'].apply(remove_non_arabic_characters)"
   ]
  },
  {
   "cell_type": "code",
   "execution_count": 18,
   "id": "af893adf",
   "metadata": {},
   "outputs": [
    {
     "data": {
      "text/plain": [
       "0        بدت تختال في حلل الجمال وجادت بالزيارة والوصال...\n",
       "1        يا طائر الشعر القرير يا وحي إلهام الصدور أسعف ...\n",
       "2        بنت حجرات أرى من عجب أن أرى فيك جمال العرب دون...\n",
       "3        هذا الربيع بنور الحسن وافانا وقد كسا الأرض بال...\n",
       "4        روحي فداك وإن منحت صدودا أخفاك ما بي أم أطعت ح...\n",
       "                               ...                        \n",
       "54939    اسقني بنت الدوالي إنها نعم الدوالي سقني سر الف...\n",
       "54940    الإلاه يحمد ويشكر المطر من اهن لشكر والإلاه ين...\n",
       "54941    ألني أبلغ من العمل الله يبلغك الأمل نزيه تحتج ...\n",
       "54942    مهرجان هوذا اليوم للإنسان ألنزيه والحسن والإحس...\n",
       "54943    الأمير بدر المواكب زدل ناجم فالكواكب السعود كل...\n",
       "Name: poem_text, Length: 54944, dtype: object"
      ]
     },
     "execution_count": 18,
     "metadata": {},
     "output_type": "execute_result"
    }
   ],
   "source": [
    "data['poem_text']"
   ]
  },
  {
   "cell_type": "code",
   "execution_count": 19,
   "id": "bdebfaa3",
   "metadata": {},
   "outputs": [],
   "source": [
    "def handle_numbers_and_symbols(text):\n",
    "    return re.sub(r'[0-9]+', '', text)"
   ]
  },
  {
   "cell_type": "code",
   "execution_count": 20,
   "id": "e7a45055",
   "metadata": {},
   "outputs": [],
   "source": [
    "data['poem_text']=data['poem_text'].apply(handle_numbers_and_symbols)"
   ]
  },
  {
   "cell_type": "code",
   "execution_count": 21,
   "id": "330538be",
   "metadata": {},
   "outputs": [
    {
     "data": {
      "text/plain": [
       "0        بدت تختال في حلل الجمال وجادت بالزيارة والوصال...\n",
       "1        يا طائر الشعر القرير يا وحي إلهام الصدور أسعف ...\n",
       "2        بنت حجرات أرى من عجب أن أرى فيك جمال العرب دون...\n",
       "3        هذا الربيع بنور الحسن وافانا وقد كسا الأرض بال...\n",
       "4        روحي فداك وإن منحت صدودا أخفاك ما بي أم أطعت ح...\n",
       "                               ...                        \n",
       "54939    اسقني بنت الدوالي إنها نعم الدوالي سقني سر الف...\n",
       "54940    الإلاه يحمد ويشكر المطر من اهن لشكر والإلاه ين...\n",
       "54941    ألني أبلغ من العمل الله يبلغك الأمل نزيه تحتج ...\n",
       "54942    مهرجان هوذا اليوم للإنسان ألنزيه والحسن والإحس...\n",
       "54943    الأمير بدر المواكب زدل ناجم فالكواكب السعود كل...\n",
       "Name: poem_text, Length: 54944, dtype: object"
      ]
     },
     "execution_count": 21,
     "metadata": {},
     "output_type": "execute_result"
    }
   ],
   "source": [
    "data['poem_text']"
   ]
  },
  {
   "cell_type": "code",
   "execution_count": 22,
   "id": "d14926e3",
   "metadata": {},
   "outputs": [],
   "source": [
    "def clean_text(text):\n",
    "    return re.sub(r'\\s+', ' ', text)"
   ]
  },
  {
   "cell_type": "code",
   "execution_count": 23,
   "id": "c19ffcce",
   "metadata": {},
   "outputs": [],
   "source": [
    "data['poem_text']=data['poem_text'].apply(clean_text)"
   ]
  },
  {
   "cell_type": "code",
   "execution_count": 24,
   "id": "6f0bb659",
   "metadata": {},
   "outputs": [
    {
     "data": {
      "text/plain": [
       "0        بدت تختال في حلل الجمال وجادت بالزيارة والوصال...\n",
       "1        يا طائر الشعر القرير يا وحي إلهام الصدور أسعف ...\n",
       "2        بنت حجرات أرى من عجب أن أرى فيك جمال العرب دون...\n",
       "3        هذا الربيع بنور الحسن وافانا وقد كسا الأرض بال...\n",
       "4        روحي فداك وإن منحت صدودا أخفاك ما بي أم أطعت ح...\n",
       "                               ...                        \n",
       "54939    اسقني بنت الدوالي إنها نعم الدوالي سقني سر الف...\n",
       "54940    الإلاه يحمد ويشكر المطر من اهن لشكر والإلاه ين...\n",
       "54941    ألني أبلغ من العمل الله يبلغك الأمل نزيه تحتج ...\n",
       "54942    مهرجان هوذا اليوم للإنسان ألنزيه والحسن والإحس...\n",
       "54943    الأمير بدر المواكب زدل ناجم فالكواكب السعود كل...\n",
       "Name: poem_text, Length: 54944, dtype: object"
      ]
     },
     "execution_count": 24,
     "metadata": {},
     "output_type": "execute_result"
    }
   ],
   "source": [
    "data['poem_text']"
   ]
  },
  {
   "cell_type": "code",
   "execution_count": 25,
   "id": "b845bb59",
   "metadata": {},
   "outputs": [],
   "source": [
    "# Preprocessing - Convert text labels to numerical labels\n",
    "category_to_label = {category: idx for idx, category in enumerate(data['category'].unique())}\n",
    "data['category_label'] = data['category'].map(category_to_label)\n",
    "X = data['poem_text']\n",
    "y = data['category_label']"
   ]
  },
  {
   "cell_type": "code",
   "execution_count": 26,
   "id": "0f6d57ca",
   "metadata": {},
   "outputs": [],
   "source": [
    "# Vectorize text data using TF-IDF\n",
    "tfidf_vectorizer = TfidfVectorizer()\n",
    "X_tfidf = tfidf_vectorizer.fit_transform(X)"
   ]
  },
  {
   "cell_type": "code",
   "execution_count": 41,
   "id": "5cd8edef",
   "metadata": {},
   "outputs": [],
   "source": [
    "from sklearn.model_selection import train_test_split\n",
    "\n",
    "# Split the data into training and testing sets\n",
    "X_train, X_test, y_train, y_test = train_test_split(X_tfidf, y, test_size=0.2, random_state=42)\n"
   ]
  },
  {
   "cell_type": "code",
   "execution_count": 42,
   "id": "796bebae",
   "metadata": {},
   "outputs": [
    {
     "data": {
      "text/plain": [
       "MultinomialNB()"
      ]
     },
     "execution_count": 42,
     "metadata": {},
     "output_type": "execute_result"
    }
   ],
   "source": [
    "# Initialize and train the Naive Bayes classifier\n",
    "nb_classifier = MultinomialNB()\n",
    "nb_classifier.fit(X_train, y_train)"
   ]
  },
  {
   "cell_type": "code",
   "execution_count": 43,
   "id": "2637dd3d",
   "metadata": {},
   "outputs": [],
   "source": [
    "#predict poem category using Naive Bayes\n",
    "def predict_poem_category(poem_text):   \n",
    "    poem_text = remove_diacritics(poem_text)\n",
    "    poem_text1 = remove_non_arabic_characters(poem_text)\n",
    "    poem_text2 = handle_numbers_and_symbols(poem_text1)\n",
    "    poem_text3 = unicode_normalize(poem_text2)\n",
    "    poem_text4 = clean_text(poem_text3)\n",
    "    \n",
    "    # Vectorizing input text\n",
    "    poem_tfidf = tfidf_vectorizer.transform([poem_text4])\n",
    "    \n",
    "    # Predicting category class for the input text\n",
    "    predicted_class = nb_classifier.predict(poem_tfidf)[0]\n",
    "    \n",
    "    # Mapping numerical label back to the original category\n",
    "    label_to_category = {v: k for k, v in category_to_label.items()}  # Assuming you have this mapping from previous steps\n",
    "    predicted_category = label_to_category[predicted_class]\n",
    "    \n",
    "    return predicted_category"
   ]
  },
  {
   "cell_type": "code",
   "execution_count": 44,
   "id": "7b5dfa5e",
   "metadata": {},
   "outputs": [
    {
     "data": {
      "text/plain": [
       "RandomForestClassifier()"
      ]
     },
     "execution_count": 44,
     "metadata": {},
     "output_type": "execute_result"
    }
   ],
   "source": [
    "from sklearn.ensemble import RandomForestClassifier\n",
    "\n",
    "# Initialize and train the Random Forest classifier\n",
    "rf_classifier = RandomForestClassifier(n_estimators=100)  # You can adjust parameters as needed\n",
    "rf_classifier.fit(X_train, y_train)"
   ]
  },
  {
   "cell_type": "code",
   "execution_count": 45,
   "id": "0e701ec8",
   "metadata": {},
   "outputs": [],
   "source": [
    "# Function to predict poem category using Random Forest\n",
    "def RFpredict_poem_category(poem_text):\n",
    "    poem_text = remove_diacritics(poem_text)\n",
    "    poem_text1 = remove_non_arabic_characters(poem_text)\n",
    "    poem_text2 = handle_numbers_and_symbols(poem_text1)\n",
    "    poem_text3 = unicode_normalize(poem_text2)\n",
    "    poem_text4 = clean_text(poem_text3)\n",
    "    \n",
    "    # Vectorize the input text\n",
    "    poem_tfidf = tfidf_vectorizer.transform([poem_text4])\n",
    "    \n",
    "    # Predict the category class for the input text using Random Forest Classifier\n",
    "    predicted_class = rf_classifier.predict(poem_tfidf)[0]\n",
    "    \n",
    "    # Map the numerical label back to the original category\n",
    "    label_to_category = {v: k for k, v in category_to_label.items()}  # Assuming you have this mapping from previous steps\n",
    "    predicted_category = label_to_category[predicted_class]\n",
    "    \n",
    "    return predicted_category"
   ]
  },
  {
   "cell_type": "code",
   "execution_count": 54,
   "id": "c6374729",
   "metadata": {},
   "outputs": [],
   "source": [
    "# Testing the models\n",
    "poem_text = \"وهوى طريق الحق فيه مظلم وقضية صمت القضاة ترفعًا عن فصلها والخصم فيها يحكم\""
   ]
  },
  {
   "cell_type": "code",
   "execution_count": 55,
   "id": "5bc7ffee",
   "metadata": {},
   "outputs": [
    {
     "name": "stdout",
     "output_type": "stream",
     "text": [
      "Naive Bayes Predicted Category: العصر الحديث\n"
     ]
    }
   ],
   "source": [
    "# Naive Bayes prediction\n",
    "predicted_category_nb = predict_poem_category(poem_text)\n",
    "print(\"Naive Bayes Predicted Category:\", predicted_category_nb)"
   ]
  },
  {
   "cell_type": "code",
   "execution_count": 56,
   "id": "d59d5f28",
   "metadata": {},
   "outputs": [
    {
     "name": "stdout",
     "output_type": "stream",
     "text": [
      "Random Forest Predicted Category: العصر المملوكي\n"
     ]
    }
   ],
   "source": [
    "# Random Forest prediction\n",
    "predicted_category_rf = RFpredict_poem_category(poem_text)\n",
    "print(\"Random Forest Predicted Category:\", predicted_category_rf)"
   ]
  },
  {
   "cell_type": "code",
   "execution_count": 57,
   "id": "8170f346",
   "metadata": {},
   "outputs": [
    {
     "name": "stdout",
     "output_type": "stream",
     "text": [
      "Naive Bayes Classifier Accuracy: 0.2560742560742561\n"
     ]
    }
   ],
   "source": [
    "#Naive Bayes classifier on test data\n",
    "y_pred_nb = nb_classifier.predict(X_test)\n",
    "accuracy_nb = accuracy_score(y_test, y_pred_nb)\n",
    "print(\"Naive Bayes Classifier Accuracy:\", accuracy_nb)"
   ]
  },
  {
   "cell_type": "raw",
   "id": "7431bbd7",
   "metadata": {},
   "source": [
    "# the NB classifier made the correct prediction for approximately 25.6% of the instances in the test dataset."
   ]
  },
  {
   "cell_type": "code",
   "execution_count": 58,
   "id": "836fe5a6",
   "metadata": {},
   "outputs": [
    {
     "name": "stdout",
     "output_type": "stream",
     "text": [
      "Random Forest Classifier Accuracy: 0.37983437983437984\n"
     ]
    }
   ],
   "source": [
    "# Predict using Random Forest classifier on test data\n",
    "y_pred_rf = rf_classifier.predict(X_test)\n",
    "accuracy_rf = accuracy_score(y_test, y_pred_rf)\n",
    "print(\"Random Forest Classifier Accuracy:\", accuracy_rf)"
   ]
  },
  {
   "cell_type": "raw",
   "id": "24baca01",
   "metadata": {},
   "source": [
    "the RF classifier made the correct prediction for approximately 37.98% of the instances in the test dataset."
   ]
  },
  {
   "cell_type": "raw",
   "id": "f182d757",
   "metadata": {},
   "source": [
    "in terms of accuracy Random Forest performs better on our dataset offering an accuracy of  37.98%"
   ]
  },
  {
   "cell_type": "code",
   "execution_count": 59,
   "id": "e32d2cf2",
   "metadata": {},
   "outputs": [],
   "source": [
    "import sys\n",
    "import time"
   ]
  },
  {
   "cell_type": "code",
   "execution_count": 60,
   "id": "4837e252",
   "metadata": {},
   "outputs": [
    {
     "name": "stdout",
     "output_type": "stream",
     "text": [
      "Training time for Naive Bayes: 0.4845852851867676\n"
     ]
    }
   ],
   "source": [
    "#time taken to train Naive Bayes\n",
    "start_time = time.time()\n",
    "nb_classifier.fit(X_train, y_train)\n",
    "nb_training_time = time.time() - start_time\n",
    "print(\"Training time for Naive Bayes:\", nb_training_time)"
   ]
  },
  {
   "cell_type": "code",
   "execution_count": 61,
   "id": "d8d68b3e",
   "metadata": {},
   "outputs": [
    {
     "name": "stdout",
     "output_type": "stream",
     "text": [
      "Training time for Random Forest: 3359.0786068439484\n"
     ]
    }
   ],
   "source": [
    "#time taken to train Random Forest\n",
    "start_time = time.time()\n",
    "rf_classifier.fit(X_train, y_train)\n",
    "rf_training_time = time.time() - start_time\n",
    "print(\"Training time for Random Forest:\", rf_training_time)"
   ]
  },
  {
   "cell_type": "raw",
   "id": "06a05b47",
   "metadata": {},
   "source": [
    "Naive Bayes trained quickly, taking only milliseconds to train and deliver the result while Random Forest classifier took significantly longer time approximately 56 minutes."
   ]
  },
  {
   "cell_type": "code",
   "execution_count": 62,
   "id": "eb1da661",
   "metadata": {},
   "outputs": [
    {
     "name": "stdout",
     "output_type": "stream",
     "text": [
      "Memory usage for Naive Bayes: 48\n"
     ]
    }
   ],
   "source": [
    "# space complexity : memory usage after training Naive Bayes\n",
    "nb_memory_usage = sys.getsizeof(nb_classifier)\n",
    "print(\"Memory usage for Naive Bayes:\", nb_memory_usage)"
   ]
  },
  {
   "cell_type": "code",
   "execution_count": 63,
   "id": "5e9101ed",
   "metadata": {},
   "outputs": [
    {
     "name": "stdout",
     "output_type": "stream",
     "text": [
      "Memory usage for Random Forest: 48\n"
     ]
    }
   ],
   "source": [
    "#space complexity : memory usage after training Random Forest\n",
    "rf_memory_usage = sys.getsizeof(rf_classifier)\n",
    "print(\"Memory usage for Random Forest:\", rf_memory_usage)"
   ]
  },
  {
   "cell_type": "raw",
   "id": "520c77ca",
   "metadata": {},
   "source": [
    "The memory usage for both classifiers is  the same, at 48 bytes."
   ]
  },
  {
   "cell_type": "code",
   "execution_count": null,
   "id": "f944e3d9",
   "metadata": {},
   "outputs": [],
   "source": []
  },
  {
   "cell_type": "code",
   "execution_count": null,
   "id": "1f206fc9",
   "metadata": {},
   "outputs": [],
   "source": []
  },
  {
   "cell_type": "code",
   "execution_count": null,
   "id": "950f6eeb",
   "metadata": {},
   "outputs": [],
   "source": []
  },
  {
   "cell_type": "code",
   "execution_count": null,
   "id": "66fc7a5c",
   "metadata": {},
   "outputs": [],
   "source": []
  },
  {
   "cell_type": "code",
   "execution_count": null,
   "id": "43974592",
   "metadata": {},
   "outputs": [],
   "source": []
  },
  {
   "cell_type": "code",
   "execution_count": null,
   "id": "d65459e2",
   "metadata": {},
   "outputs": [],
   "source": []
  },
  {
   "cell_type": "code",
   "execution_count": null,
   "id": "faee15b0",
   "metadata": {},
   "outputs": [],
   "source": []
  },
  {
   "cell_type": "code",
   "execution_count": null,
   "id": "9973dd65",
   "metadata": {},
   "outputs": [],
   "source": []
  },
  {
   "cell_type": "code",
   "execution_count": null,
   "id": "45b26c96",
   "metadata": {},
   "outputs": [],
   "source": []
  },
  {
   "cell_type": "code",
   "execution_count": null,
   "id": "177e2ad0",
   "metadata": {},
   "outputs": [],
   "source": [
    "\n"
   ]
  },
  {
   "cell_type": "code",
   "execution_count": null,
   "id": "33ca64b0",
   "metadata": {},
   "outputs": [],
   "source": []
  },
  {
   "cell_type": "code",
   "execution_count": null,
   "id": "3534b887",
   "metadata": {},
   "outputs": [],
   "source": []
  },
  {
   "cell_type": "code",
   "execution_count": null,
   "id": "63e01558",
   "metadata": {},
   "outputs": [],
   "source": []
  }
 ],
 "metadata": {
  "kernelspec": {
   "display_name": "Python 3 (ipykernel)",
   "language": "python",
   "name": "python3"
  },
  "language_info": {
   "codemirror_mode": {
    "name": "ipython",
    "version": 3
   },
   "file_extension": ".py",
   "mimetype": "text/x-python",
   "name": "python",
   "nbconvert_exporter": "python",
   "pygments_lexer": "ipython3",
   "version": "3.9.12"
  }
 },
 "nbformat": 4,
 "nbformat_minor": 5
}
